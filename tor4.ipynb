{
 "cells": [
  {
   "cell_type": "code",
   "execution_count": 1,
   "metadata": {
    "_cell_guid": "b1076dfc-b9ad-4769-8c92-a6c4dae69d19",
    "_uuid": "8f2839f25d086af736a60e9eeb907d3b93b6e0e5"
   },
   "outputs": [
    {
     "name": "stdout",
     "output_type": "stream",
     "text": [
      "/kaggle/input/bandpassed-1014hz-splitted-data-75350-csp/train_X_csp.mat\n",
      "/kaggle/input/bandpassed-1014hz-splitted-data-75350-csp/test_y.mat\n",
      "/kaggle/input/bandpassed-1014hz-splitted-data-75350-csp/train_y.mat\n",
      "/kaggle/input/bandpassed-1014hz-splitted-data-75350-csp/test_X_csp.mat\n"
     ]
    }
   ],
   "source": [
    "# This Python 3 environment comes with many helpful analytics libraries installed\n",
    "# It is defined by the kaggle/python docker image: https://github.com/kaggle/docker-python\n",
    "# For example, here's several helpful packages to load in \n",
    "\n",
    "import numpy as np # linear algebra\n",
    "import pandas as pd # data processing, CSV file I/O (e.g. pd.read_csv)\n",
    "\n",
    "# Input data files are available in the \"../input/\" directory.\n",
    "# For example, running this (by clicking run or pressing Shift+Enter) will list all files under the input directory\n",
    "\n",
    "import os\n",
    "for dirname, _, filenames in os.walk('/kaggle/input'):\n",
    "    for filename in filenames:\n",
    "        print(os.path.join(dirname, filename))\n",
    "\n",
    "# Any results you write to the current directory are saved as output."
   ]
  },
  {
   "cell_type": "code",
   "execution_count": 2,
   "metadata": {},
   "outputs": [],
   "source": [
    "import scipy.io as sio\n",
    "import torch\n",
    "import numpy as np\n",
    "import torch.utils.data as utils"
   ]
  },
  {
   "cell_type": "code",
   "execution_count": 3,
   "metadata": {
    "_cell_guid": "79c7e3d0-c299-4dcb-8224-4455121ee9b0",
    "_uuid": "d629ff2d2480ee46fbb7e2d37f6b5fab8052498a"
   },
   "outputs": [],
   "source": [
    "path1='/kaggle/input/bandpassed-1014hz-splitted-data-75350-csp/train_X_csp.mat'\n",
    "path2='/kaggle/input/bandpassed-1014hz-splitted-data-75350-csp/test_X_csp.mat'\n",
    "path3='/kaggle/input/bandpassed-1014hz-splitted-data-75350-csp/test_y.mat'\n",
    "path4='/kaggle/input/bandpassed-1014hz-splitted-data-75350-csp/train_y.mat'\n",
    "\n",
    "train_X = sio.loadmat(path1)['train_X_csp']\n",
    "train_y = sio.loadmat(path4)['train_y_csp']\n",
    " \n",
    "test_X = sio.loadmat(path2)['test_X_csp']\n",
    "test_y = sio.loadmat(path3)['test_y']"
   ]
  },
  {
   "cell_type": "code",
   "execution_count": 4,
   "metadata": {},
   "outputs": [
    {
     "data": {
      "text/plain": [
       "((275, 6, 9601), (275, 6, 2401))"
      ]
     },
     "execution_count": 4,
     "metadata": {},
     "output_type": "execute_result"
    }
   ],
   "source": [
    "train_X.shape, test_X.shape"
   ]
  },
  {
   "cell_type": "code",
   "execution_count": 5,
   "metadata": {},
   "outputs": [],
   "source": [
    "\n",
    "train_X = np.moveaxis(train_X, [0, 1, 2], [-1, -2, -3])\n",
    "train_X = np.expand_dims(train_X, axis=1)\n",
    "\n",
    "test_X = np.moveaxis(test_X, [0, 1, 2], [-1, -2, -3])\n",
    "test_X = np.expand_dims(test_X, axis=1)\n"
   ]
  },
  {
   "cell_type": "code",
   "execution_count": 6,
   "metadata": {},
   "outputs": [
    {
     "data": {
      "text/plain": [
       "((9601, 1, 6, 275), (2401, 1, 6, 275))"
      ]
     },
     "execution_count": 6,
     "metadata": {},
     "output_type": "execute_result"
    }
   ],
   "source": [
    "train_X.shape, test_X.shape"
   ]
  },
  {
   "cell_type": "code",
   "execution_count": 7,
   "metadata": {},
   "outputs": [],
   "source": [
    "X_train_list = []\n",
    "for i in range(len(train_X)):\n",
    "    X_train_list.append(train_X[i])"
   ]
  },
  {
   "cell_type": "code",
   "execution_count": 8,
   "metadata": {},
   "outputs": [],
   "source": [
    "X_test_list = []\n",
    "for i in range(len(test_X)):\n",
    "    X_test_list.append(test_X[i])"
   ]
  },
  {
   "cell_type": "code",
   "execution_count": 9,
   "metadata": {},
   "outputs": [],
   "source": [
    "train_y = train_y.T\n",
    "test_y = test_y.T"
   ]
  },
  {
   "cell_type": "code",
   "execution_count": 10,
   "metadata": {},
   "outputs": [],
   "source": [
    "tensor_X_train = torch.stack([torch.FloatTensor(i) for i in X_train_list]) # transform to torch tensors\n",
    "tensor_y_train = torch.Tensor(train_y)"
   ]
  },
  {
   "cell_type": "code",
   "execution_count": 11,
   "metadata": {},
   "outputs": [],
   "source": [
    "tensor_X_test = torch.stack([torch.FloatTensor(i) for i in X_test_list]) # transform to torch tensors\n",
    "tensor_y_test = torch.Tensor(test_y)"
   ]
  },
  {
   "cell_type": "code",
   "execution_count": 12,
   "metadata": {},
   "outputs": [],
   "source": [
    "train_dataset = utils.TensorDataset(tensor_X_train,tensor_y_train)\n",
    "train_loader = utils.DataLoader(train_dataset, batch_size=128, num_workers=1)"
   ]
  },
  {
   "cell_type": "code",
   "execution_count": 13,
   "metadata": {},
   "outputs": [],
   "source": [
    "test_dataset = utils.TensorDataset(tensor_X_test,tensor_y_test)\n",
    "test_loader = utils.DataLoader(test_dataset, batch_size=128, num_workers=1)"
   ]
  },
  {
   "cell_type": "code",
   "execution_count": 14,
   "metadata": {},
   "outputs": [],
   "source": [
    "import torch.nn.functional as F\n",
    "from torch import nn\n",
    "class Tor4(nn.Module):\n",
    "    def __init__(self):\n",
    "        super(Tor4, self).__init__()\n",
    "        self.conv1 = nn.Conv2d(1, 64, kernel_size=(3, 3), padding=1)\n",
    "        self.conv2 = nn.Conv2d(64, 64, kernel_size=(3, 3), padding=1)\n",
    "        self.fc1 = nn.Linear(64*6*275, 10)\n",
    "        self.fc2 = nn.Linear(10,2)\n",
    "        \n",
    "    def forward(self, x):\n",
    "        x=self.conv1(x)\n",
    "        x=F.relu(x)\n",
    "        x=self.conv2(x)\n",
    "        x=F.relu(x)\n",
    "        x = x.view(-1, 64*6*275)\n",
    "        x=F.relu(x)\n",
    "        x=self.fc1(x)\n",
    "        x=F.relu(x)\n",
    "        x=self.fc2(x)\n",
    "\n",
    "        \n",
    "        return x\n",
    "net = Tor4()"
   ]
  },
  {
   "cell_type": "code",
   "execution_count": 15,
   "metadata": {},
   "outputs": [
    {
     "name": "stdout",
     "output_type": "stream",
     "text": [
      "cuda:0\n"
     ]
    },
    {
     "data": {
      "text/plain": [
       "Tor4(\n",
       "  (conv1): Conv2d(1, 64, kernel_size=(3, 3), stride=(1, 1), padding=(1, 1))\n",
       "  (conv2): Conv2d(64, 64, kernel_size=(3, 3), stride=(1, 1), padding=(1, 1))\n",
       "  (fc1): Linear(in_features=105600, out_features=10, bias=True)\n",
       "  (fc2): Linear(in_features=10, out_features=2, bias=True)\n",
       ")"
      ]
     },
     "execution_count": 15,
     "metadata": {},
     "output_type": "execute_result"
    }
   ],
   "source": [
    "device = torch.device(\"cuda:0\" if torch.cuda.is_available() else \"cpu\")\n",
    "print(device)\n",
    "net.to(device)"
   ]
  },
  {
   "cell_type": "code",
   "execution_count": 16,
   "metadata": {},
   "outputs": [],
   "source": [
    "from torch import nn\n",
    "from torch import optim\n",
    "criterion = nn.BCEWithLogitsLoss()\n",
    "optimizer = optim.SGD(net.parameters(), lr=0.0001, momentum=0.9)"
   ]
  },
  {
   "cell_type": "code",
   "execution_count": 17,
   "metadata": {},
   "outputs": [],
   "source": [
    "import tqdm\n",
    "from sklearn.metrics import accuracy_score"
   ]
  },
  {
   "cell_type": "code",
   "execution_count": 18,
   "metadata": {},
   "outputs": [
    {
     "name": "stdout",
     "output_type": "stream",
     "text": [
      "epoch: 1, training loss: 0.6918427450092215 training accuracy: 0.5374177631578947\n",
      "epoch: 1, testing loss: 0.6977244576157282, testing accuracy:0.5493161379223177\n"
     ]
    },
    {
     "name": "stderr",
     "output_type": "stream",
     "text": [
      "/opt/conda/lib/python3.6/site-packages/ipykernel_launcher.py:48: UserWarning: Implicit dimension choice for softmax has been deprecated. Change the call to include dim=X as an argument.\n"
     ]
    },
    {
     "name": "stdout",
     "output_type": "stream",
     "text": [
      "epoch: 2, training loss: 0.6860284452375612 training accuracy: 0.5614720394736842\n",
      "epoch: 2, testing loss: 0.6915165131280162, testing accuracy:0.5853793784208559\n",
      "epoch: 3, training loss: 0.680556196915476 training accuracy: 0.5795641447368421\n",
      "epoch: 3, testing loss: 0.6864888962906306, testing accuracy:0.6129806371309872\n",
      "epoch: 4, training loss: 0.6756224655791333 training accuracy: 0.5909745065789473\n",
      "epoch: 4, testing loss: 0.6819500979075808, testing accuracy:0.6242074673576153\n",
      "epoch: 5, training loss: 0.6711249131905405 training accuracy: 0.6060855263157895\n",
      "epoch: 5, testing loss: 0.6776425280550649, testing accuracy:0.6321199140527113\n",
      "epoch: 6, training loss: 0.6662374852519286 training accuracy: 0.6075246710526315\n",
      "epoch: 6, testing loss: 0.6724732072114435, testing accuracy:0.6336354288022332\n",
      "epoch: 7, training loss: 0.6609598421736768 training accuracy: 0.6163651315789473\n",
      "epoch: 7, testing loss: 0.6676861789943312, testing accuracy:0.6286380940474358\n",
      "epoch: 8, training loss: 0.6562190640129542 training accuracy: 0.6177014802631579\n",
      "epoch: 8, testing loss: 0.6635537406783114, testing accuracy:0.6286380940474358\n",
      "epoch: 9, training loss: 0.6521130666921013 training accuracy: 0.6207853618421053\n",
      "epoch: 9, testing loss: 0.6600389729684858, testing accuracy:0.6298874277361352\n",
      "epoch: 10, training loss: 0.6484762696843398 training accuracy: 0.6243832236842105\n",
      "epoch: 10, testing loss: 0.6570220660807481, testing accuracy:0.628221649484536\n",
      "epoch: 11, training loss: 0.6452407574183062 training accuracy: 0.624280427631579\n",
      "epoch: 11, testing loss: 0.6543121326452633, testing accuracy:0.6293378926428241\n",
      "epoch: 12, training loss: 0.6421954184770584 training accuracy: 0.6266447368421053\n",
      "epoch: 12, testing loss: 0.6519520238264283, testing accuracy:0.6255898915767261\n",
      "epoch: 13, training loss: 0.6395720753230547 training accuracy: 0.628186677631579\n",
      "epoch: 13, testing loss: 0.6498619024433306, testing accuracy:0.6264227807025256\n",
      "epoch: 14, training loss: 0.6371116308789504 training accuracy: 0.6295230263157895\n",
      "epoch: 14, testing loss: 0.6479947297557839, testing accuracy:0.6272556698283251\n",
      "epoch: 15, training loss: 0.6348417193481797 training accuracy: 0.6327097039473685\n",
      "epoch: 15, testing loss: 0.646320169668462, testing accuracy:0.6294709831732354\n",
      "epoch: 16, training loss: 0.632712734961196 training accuracy: 0.634765625\n",
      "epoch: 16, testing loss: 0.6447546199949057, testing accuracy:0.6305872263315234\n",
      "epoch: 17, training loss: 0.630645924885022 training accuracy: 0.6372327302631579\n",
      "epoch: 17, testing loss: 0.6434039774734074, testing accuracy:0.6318365600202228\n",
      "epoch: 18, training loss: 0.6288403029504576 training accuracy: 0.6375411184210527\n",
      "epoch: 18, testing loss: 0.6421416330693372, testing accuracy:0.6330858937089222\n",
      "epoch: 19, training loss: 0.6270762380016478 training accuracy: 0.6395970394736842\n",
      "epoch: 19, testing loss: 0.6409566253741412, testing accuracy:0.6342021368672103\n",
      "epoch: 20, training loss: 0.6253847281791662 training accuracy: 0.641858552631579\n",
      "epoch: 20, testing loss: 0.6398554359163556, testing accuracy:0.6358679151188095\n",
      "epoch: 21, training loss: 0.62375906286271 training accuracy: 0.6439144736842105\n",
      "epoch: 21, testing loss: 0.638817253905827, testing accuracy:0.6379501379333083\n",
      "epoch: 22, training loss: 0.622195940464735 training accuracy: 0.6448396381578947\n",
      "epoch: 22, testing loss: 0.6378654859213432, testing accuracy:0.6412816944365066\n",
      "epoch: 23, training loss: 0.6207264759822896 training accuracy: 0.6465871710526315\n",
      "epoch: 23, testing loss: 0.6369683216375582, testing accuracy:0.6434970077814168\n",
      "epoch: 24, training loss: 0.6193164028227329 training accuracy: 0.6495682565789473\n",
      "epoch: 24, testing loss: 0.636142552661489, testing accuracy:0.6469616548150264\n",
      "epoch: 25, training loss: 0.6179530875463235 training accuracy: 0.650390625\n",
      "epoch: 25, testing loss: 0.6353542748798947, testing accuracy:0.6468285642846151\n",
      "epoch: 26, training loss: 0.6166386400398455 training accuracy: 0.6517269736842105\n",
      "epoch: 26, testing loss: 0.6346000696041945, testing accuracy:0.6501601207878135\n",
      "epoch: 27, training loss: 0.6153666422163185 training accuracy: 0.6532689144736842\n",
      "epoch: 27, testing loss: 0.6338964901499148, testing accuracy:0.6518258990394126\n",
      "epoch: 28, training loss: 0.614152451486964 training accuracy: 0.6537828947368421\n",
      "epoch: 28, testing loss: 0.6332583360072137, testing accuracy:0.6527918786956234\n",
      "epoch: 29, training loss: 0.6129565917347607 training accuracy: 0.6551192434210527\n",
      "epoch: 29, testing loss: 0.6326160387698012, testing accuracy:0.6537578583518343\n",
      "epoch: 30, training loss: 0.611810444609115 training accuracy: 0.6558388157894737\n",
      "epoch: 30, testing loss: 0.6320399738578145, testing accuracy:0.6550071920405336\n",
      "epoch: 31, training loss: 0.6106816701787082 training accuracy: 0.6568667763157895\n",
      "epoch: 31, testing loss: 0.6314695929921765, testing accuracy:0.6550071920405336\n",
      "epoch: 32, training loss: 0.609594784088825 training accuracy: 0.657483552631579\n",
      "epoch: 32, testing loss: 0.6309540890681463, testing accuracy:0.6541743029147341\n",
      "epoch: 33, training loss: 0.6085341578643573 training accuracy: 0.6591282894736842\n",
      "epoch: 33, testing loss: 0.6304423914535213, testing accuracy:0.6555567271338447\n",
      "epoch: 34, training loss: 0.6075191384083346 training accuracy: 0.6612870065789473\n",
      "epoch: 34, testing loss: 0.6300378614651369, testing accuracy:0.6559731716967445\n",
      "epoch: 35, training loss: 0.6065641204385381 training accuracy: 0.6616981907894737\n",
      "epoch: 35, testing loss: 0.6295530590167178, testing accuracy:0.6563896162596443\n",
      "epoch: 36, training loss: 0.6055791485858592 training accuracy: 0.6632401315789473\n",
      "epoch: 36, testing loss: 0.6291576667126816, testing accuracy:0.6572225053854438\n",
      "epoch: 37, training loss: 0.604630877312861 training accuracy: 0.6646792763157895\n",
      "epoch: 37, testing loss: 0.6287881878139113, testing accuracy:0.656806060822544\n",
      "epoch: 38, training loss: 0.6037382185459137 training accuracy: 0.6659128289473685\n",
      "epoch: 38, testing loss: 0.6284594154561252, testing accuracy:0.6580553945112434\n",
      "epoch: 39, training loss: 0.6028791920919168 training accuracy: 0.6668379934210527\n",
      "epoch: 39, testing loss: 0.6281011807384775, testing accuracy:0.6613869510144417\n",
      "epoch: 40, training loss: 0.6020386922908457 training accuracy: 0.6677631578947368\n",
      "epoch: 40, testing loss: 0.6278096009164984, testing accuracy:0.6618033955773415\n",
      "epoch: 41, training loss: 0.601197359593291 training accuracy: 0.6687911184210527\n",
      "epoch: 41, testing loss: 0.627525455789017, testing accuracy:0.6613869510144417\n",
      "epoch: 42, training loss: 0.6003975451580787 training accuracy: 0.669202302631579\n",
      "epoch: 42, testing loss: 0.6272310355324735, testing accuracy:0.6609705064515419\n",
      "epoch: 43, training loss: 0.5996016034562337 training accuracy: 0.669921875\n",
      "epoch: 43, testing loss: 0.627032856443035, testing accuracy:0.6618033955773415\n",
      "epoch: 44, training loss: 0.5988684545614218 training accuracy: 0.6708470394736842\n",
      "epoch: 44, testing loss: 0.6267713108804942, testing accuracy:0.6616703050469303\n",
      "epoch: 45, training loss: 0.5981323947443774 training accuracy: 0.6730057565789473\n",
      "epoch: 45, testing loss: 0.6265585356429695, testing accuracy:0.66208674960983\n",
      "epoch: 46, training loss: 0.5974034572902479 training accuracy: 0.6737253289473685\n",
      "epoch: 46, testing loss: 0.6263831213339051, testing accuracy:0.6623701036423185\n",
      "epoch: 47, training loss: 0.5967026533264863 training accuracy: 0.6744449013157895\n",
      "epoch: 47, testing loss: 0.6262308880210177, testing accuracy:0.6627865482052183\n",
      "epoch: 48, training loss: 0.5960316171771601 training accuracy: 0.6746504934210527\n",
      "epoch: 48, testing loss: 0.6260785721004136, testing accuracy:0.6619536590794187\n",
      "epoch: 49, training loss: 0.5953522276525435 training accuracy: 0.6754728618421053\n",
      "epoch: 49, testing loss: 0.6258380470245377, testing accuracy:0.6611207699536191\n",
      "epoch: 50, training loss: 0.5946916784895094 training accuracy: 0.6763980263157895\n",
      "epoch: 50, testing loss: 0.6257251508708701, testing accuracy:0.6619536590794187\n",
      "epoch: 51, training loss: 0.594052259663218 training accuracy: 0.6761924342105263\n",
      "epoch: 51, testing loss: 0.6256157528362802, testing accuracy:0.6627865482052183\n",
      "epoch: 52, training loss: 0.5934135305058015 training accuracy: 0.6760896381578947\n"
     ]
    },
    {
     "name": "stdout",
     "output_type": "stream",
     "text": [
      "epoch: 52, testing loss: 0.6255087885521113, testing accuracy:0.6634691738289407\n",
      "epoch: 53, training loss: 0.59280186190613 training accuracy: 0.6756784539473685\n",
      "epoch: 53, testing loss: 0.6253555353516455, testing accuracy:0.6648515980480513\n",
      "epoch: 54, training loss: 0.5922053555320752 training accuracy: 0.6753700657894737\n",
      "epoch: 54, testing loss: 0.6252833076123235, testing accuracy:0.6648515980480513\n",
      "epoch: 55, training loss: 0.5916139579034949 training accuracy: 0.6766036184210527\n",
      "epoch: 55, testing loss: 0.6251821226910995, testing accuracy:0.6661009317367507\n",
      "epoch: 56, training loss: 0.5910367078490948 training accuracy: 0.6761924342105263\n",
      "epoch: 56, testing loss: 0.6250931637119382, testing accuracy:0.6661009317367507\n",
      "epoch: 57, training loss: 0.5904711054539994 training accuracy: 0.6769120065789473\n",
      "epoch: 57, testing loss: 0.6249441139733612, testing accuracy:0.6656844871738509\n",
      "epoch: 58, training loss: 0.5898965018752375 training accuracy: 0.6773231907894737\n",
      "epoch: 58, testing loss: 0.624977528794742, testing accuracy:0.6661009317367507\n",
      "epoch: 59, training loss: 0.5893601716349 training accuracy: 0.6769120065789473\n",
      "epoch: 59, testing loss: 0.624822801364256, testing accuracy:0.6681831545512495\n",
      "epoch: 60, training loss: 0.588787667551323 training accuracy: 0.6774259868421053\n",
      "epoch: 60, testing loss: 0.6247523623997214, testing accuracy:0.6661009317367507\n",
      "epoch: 61, training loss: 0.5882293639312449 training accuracy: 0.6779399671052632\n",
      "epoch: 61, testing loss: 0.6246776754922195, testing accuracy:0.66735026542545\n",
      "epoch: 62, training loss: 0.5876872618927768 training accuracy: 0.677734375\n",
      "epoch: 62, testing loss: 0.6245643249961105, testing accuracy:0.6681831545512495\n",
      "epoch: 63, training loss: 0.5871591303301485 training accuracy: 0.6794819078947368\n",
      "epoch: 63, testing loss: 0.6245886497914409, testing accuracy:0.6677667099883497\n",
      "epoch: 64, training loss: 0.5866331686510852 training accuracy: 0.6788651315789473\n",
      "epoch: 64, testing loss: 0.6243973938641009, testing accuracy:0.6694324882399489\n",
      "epoch: 65, training loss: 0.5860846303403378 training accuracy: 0.6795847039473685\n",
      "epoch: 65, testing loss: 0.6243437846332216, testing accuracy:0.6694324882399489\n",
      "epoch: 66, training loss: 0.5855549900841556 training accuracy: 0.6797902960526315\n",
      "epoch: 66, testing loss: 0.6242323468234747, testing accuracy:0.6702653773657485\n",
      "epoch: 67, training loss: 0.5850389305698244 training accuracy: 0.6805098684210527\n",
      "epoch: 67, testing loss: 0.6242112087796745, testing accuracy:0.6698489328028487\n",
      "epoch: 68, training loss: 0.5845275994782385 training accuracy: 0.6803042763157895\n",
      "epoch: 68, testing loss: 0.6240723134358046, testing accuracy:0.6685995991141493\n",
      "epoch: 69, training loss: 0.5839970601526531 training accuracy: 0.6802014802631579\n",
      "epoch: 69, testing loss: 0.6240934006440868, testing accuracy:0.6690160436770491\n",
      "epoch: 70, training loss: 0.5834866381299338 training accuracy: 0.6798930921052632\n",
      "epoch: 70, testing loss: 0.6239894261238162, testing accuracy:0.6677667099883497\n",
      "epoch: 71, training loss: 0.5829931908336125 training accuracy: 0.6807154605263158\n",
      "epoch: 71, testing loss: 0.6239752811409517, testing accuracy:0.6677667099883497\n",
      "epoch: 72, training loss: 0.5824922305090647 training accuracy: 0.6805098684210527\n",
      "epoch: 72, testing loss: 0.6239018111086603, testing accuracy:0.6690160436770491\n",
      "epoch: 73, training loss: 0.5819909713770214 training accuracy: 0.6805098684210527\n",
      "epoch: 73, testing loss: 0.6238951866052298, testing accuracy:0.66735026542545\n",
      "epoch: 74, training loss: 0.5815063263044545 training accuracy: 0.6807154605263158\n",
      "epoch: 74, testing loss: 0.6237848290502389, testing accuracy:0.6665173762996505\n",
      "epoch: 75, training loss: 0.5810195748743258 training accuracy: 0.6817434210526315\n",
      "epoch: 75, testing loss: 0.6237077147467558, testing accuracy:0.66735026542545\n",
      "epoch: 76, training loss: 0.5805472810017435 training accuracy: 0.6817434210526315\n",
      "epoch: 76, testing loss: 0.6237556780579248, testing accuracy:0.6662340222671619\n",
      "epoch: 77, training loss: 0.5800900224008059 training accuracy: 0.6821546052631579\n",
      "epoch: 77, testing loss: 0.6236946690819665, testing accuracy:0.6654011331413623\n",
      "epoch: 78, training loss: 0.5796543212705537 training accuracy: 0.6832853618421053\n",
      "epoch: 78, testing loss: 0.6236563867597437, testing accuracy:0.6645682440155628\n",
      "epoch: 79, training loss: 0.5792290677169436 training accuracy: 0.6837993421052632\n",
      "epoch: 79, testing loss: 0.623635458412455, testing accuracy:0.6651177791088738\n",
      "epoch: 80, training loss: 0.5787445023459824 training accuracy: 0.6842105263157895\n",
      "epoch: 80, testing loss: 0.6236551857706326, testing accuracy:0.6659506682346734\n",
      "epoch: 81, training loss: 0.5783124655289086 training accuracy: 0.6847245065789473\n",
      "epoch: 81, testing loss: 0.6236162997766344, testing accuracy:0.6659506682346734\n",
      "epoch: 82, training loss: 0.5778693918530878 training accuracy: 0.6844161184210527\n",
      "epoch: 82, testing loss: 0.6236361192741882, testing accuracy:0.6651177791088738\n",
      "epoch: 83, training loss: 0.5774334994095721 training accuracy: 0.6840049342105263\n",
      "epoch: 83, testing loss: 0.6236293295553244, testing accuracy:0.6667835573604729\n",
      "epoch: 84, training loss: 0.5769803103451666 training accuracy: 0.6842105263157895\n",
      "epoch: 84, testing loss: 0.6236350549055315, testing accuracy:0.6676164464862725\n",
      "epoch: 85, training loss: 0.5765639255313497 training accuracy: 0.6842105263157895\n",
      "epoch: 85, testing loss: 0.6235839397922507, testing accuracy:0.6655342236717736\n",
      "epoch: 86, training loss: 0.5761070505862957 training accuracy: 0.6840049342105263\n",
      "epoch: 86, testing loss: 0.6235427026555481, testing accuracy:0.6667835573604729\n",
      "epoch: 87, training loss: 0.5756786847977262 training accuracy: 0.6847245065789473\n",
      "epoch: 87, testing loss: 0.6235496226404267, testing accuracy:0.6672000019233727\n",
      "epoch: 88, training loss: 0.5752655089293656 training accuracy: 0.6847245065789473\n",
      "epoch: 88, testing loss: 0.6235218156121178, testing accuracy:0.6688657801749719\n",
      "epoch: 89, training loss: 0.5748457295918151 training accuracy: 0.6854440789473685\n",
      "epoch: 89, testing loss: 0.623535306087689, testing accuracy:0.6680328910491723\n",
      "epoch: 90, training loss: 0.574428620405103 training accuracy: 0.6860608552631579\n",
      "epoch: 90, testing loss: 0.6235521421757841, testing accuracy:0.6662340222671619\n",
      "epoch: 91, training loss: 0.5740069480318772 training accuracy: 0.6863692434210527\n",
      "epoch: 91, testing loss: 0.6235353569232069, testing accuracy:0.6658175777042621\n",
      "epoch: 92, training loss: 0.5735994959250093 training accuracy: 0.6861636513157895\n",
      "epoch: 92, testing loss: 0.6235221619290837, testing accuracy:0.6662340222671619\n",
      "epoch: 93, training loss: 0.5731852306053042 training accuracy: 0.686266447368421\n",
      "epoch: 93, testing loss: 0.6235086047318952, testing accuracy:0.6662340222671619\n",
      "epoch: 94, training loss: 0.5727831716404149 training accuracy: 0.6863692434210527\n",
      "epoch: 94, testing loss: 0.6234857859387835, testing accuracy:0.6666504668300617\n",
      "epoch: 95, training loss: 0.5723878627544955 training accuracy: 0.6869860197368421\n",
      "epoch: 95, testing loss: 0.6235058341961679, testing accuracy:0.6658175777042621\n",
      "epoch: 96, training loss: 0.572001819302769 training accuracy: 0.6878083881578947\n",
      "epoch: 96, testing loss: 0.623501703810336, testing accuracy:0.6658175777042621\n",
      "epoch: 97, training loss: 0.5716086556448748 training accuracy: 0.6881167763157895\n",
      "epoch: 97, testing loss: 0.623423772961346, testing accuracy:0.6670669113929615\n",
      "epoch: 98, training loss: 0.5712075519718622 training accuracy: 0.6884251644736842\n",
      "epoch: 98, testing loss: 0.6234405836316822, testing accuracy:0.6666504668300617\n",
      "epoch: 99, training loss: 0.5708097139569489 training accuracy: 0.6883223684210527\n",
      "epoch: 99, testing loss: 0.6233967602380048, testing accuracy:0.6678998005187611\n",
      "epoch: 100, training loss: 0.5704252498322412 training accuracy: 0.6881167763157895\n",
      "epoch: 100, testing loss: 0.623414701998615, testing accuracy:0.6674833559558613\n"
     ]
    }
   ],
   "source": [
    "from sklearn.metrics import roc_auc_score\n",
    "num_epochs = 100\n",
    "acc_train = []\n",
    "loss_train = []\n",
    "\n",
    "acc_test = []\n",
    "loss_test = []\n",
    "\n",
    "for epoch in range(num_epochs):  # loop over the dataset multiple times\n",
    "    \n",
    "    running_loss = 0.0\n",
    "    acc=0\n",
    "    for i, data in enumerate(train_loader, 0):\n",
    "        net.train()\n",
    "        # get the inputs; data is a list of [inputs, labels]\n",
    "#         inputs, labels = data[0].to(device), data[1].to(device)\n",
    "        inputs, labels = data[0].to(device), data[1].to(device)       # zero the parameter gradients\n",
    "        optimizer.zero_grad()\n",
    "\n",
    "        # forward + backward + optimize\n",
    "        outputs = net(inputs)\n",
    "        loss = criterion(outputs, labels)\n",
    "        loss.backward()\n",
    "        optimizer.step()\n",
    "\n",
    "        # print statistics\n",
    "        running_loss += loss.item()\n",
    "        acc += accuracy_score(outputs.max(dim=1)[1].cpu().numpy(), labels.max(dim=1)[1].cpu().numpy())\n",
    "\n",
    "           # print every epoch\n",
    "    print(\"epoch: {}, training loss: {} training accuracy: {}\".format(epoch+1, running_loss/76, acc/76))\n",
    "    acc_train.append(acc/75)\n",
    "    loss_train.append(running_loss/75)\n",
    "    auc1 = 0\n",
    "    auc2 = 0\n",
    "    with torch.no_grad():\n",
    "        net.eval()\n",
    "        test_loss = 0\n",
    "        accuracy=0\n",
    "        for i, data in enumerate(test_loader, 0):\n",
    "            inputs, labels = data[0].to(device), data[1].to(device)  \n",
    "            optimizer.zero_grad()\n",
    "            outputs = net(inputs)\n",
    "            loss = criterion(outputs, labels)\n",
    "            test_loss += loss.item()\n",
    "            accuracy += accuracy_score(outputs.max(dim=1)[1].cpu().numpy(), labels.max(dim=1)[1].cpu().numpy())\n",
    "        print(\"epoch: {}, testing loss: {}, testing accuracy:{}\".format(epoch+1, test_loss/18.76, accuracy/18.76))\n",
    "        \n",
    "        acc_test.append(accuracy/18.76)\n",
    "        loss_test.append(test_loss/18.76)"
   ]
  },
  {
   "cell_type": "code",
   "execution_count": 19,
   "metadata": {},
   "outputs": [],
   "source": [
    "epochs = list(range(1,num_epochs+1))"
   ]
  },
  {
   "cell_type": "code",
   "execution_count": 20,
   "metadata": {},
   "outputs": [],
   "source": [
    "import matplotlib.pyplot as plt"
   ]
  },
  {
   "cell_type": "code",
   "execution_count": 21,
   "metadata": {},
   "outputs": [
    {
     "data": {
      "image/png": "[encoded data removed]",
      "text/plain": [
       "<Figure size 432x288 with 1 Axes>"
      ]
     },
     "metadata": {
      "needs_background": "light"
     },
     "output_type": "display_data"
    }
   ],
   "source": [
    "plt.plot(epochs,acc_train,label='train')\n",
    "plt.plot(epochs,acc_test, label='test')\n",
    "plt.legend()\n",
    "plt.xlabel(\"epochs\")\n",
    "plt.ylabel(\"accuracy\")\n",
    "plt.show()"
   ]
  },
  {
   "cell_type": "code",
   "execution_count": 22,
   "metadata": {},
   "outputs": [
    {
     "data": {
      "image/png": "[encoded data removed]",
      "text/plain": [
       "<Figure size 432x288 with 1 Axes>"
      ]
     },
     "metadata": {
      "needs_background": "light"
     },
     "output_type": "display_data"
    }
   ],
   "source": [
    "plt.plot(epochs,loss_train,label='train')\n",
    "plt.plot(epochs,loss_test, label='test')\n",
    "plt.legend()\n",
    "plt.xlabel(\"epochs\")\n",
    "plt.ylabel(\"loss\")\n",
    "plt.show()"
   ]
  },
  {
   "cell_type": "code",
   "execution_count": 24,
   "metadata": {},
   "outputs": [],
   "source": [
    "import sklearn.metrics as metrics"
   ]
  },
  {
   "cell_type": "code",
   "execution_count": 47,
   "metadata": {},
   "outputs": [],
   "source": [
    "net.eval()\n",
    "testy = []\n",
    "lr_probs = []\n",
    "with torch.no_grad():\n",
    "    for data in test_loader:\n",
    "        inputs, labels = data[0].to(device), data[1].to(device)\n",
    "        outputs = net(inputs)\n",
    "        testy.extend(labels)\n",
    "        lr_probs.extend(nn.functional.softmax(outputs,dim=1).cpu().numpy())"
   ]
  },
  {
   "cell_type": "code",
   "execution_count": 63,
   "metadata": {},
   "outputs": [],
   "source": [
    "y_pred = np.asarray(lr_probs)"
   ]
  },
  {
   "cell_type": "code",
   "execution_count": 69,
   "metadata": {},
   "outputs": [
    {
     "data": {
      "image/png": "[encoded data removed]",
      "text/plain": [
       "<Figure size 432x288 with 1 Axes>"
      ]
     },
     "metadata": {
      "needs_background": "light"
     },
     "output_type": "display_data"
    }
   ],
   "source": [
    "fpr, tpr, threshold = metrics.roc_curve(test_y.T[0], y_pred.T[0])\n",
    "roc_auc = metrics.auc(fpr, tpr)\n",
    "\n",
    "# method I: plt\n",
    "import matplotlib.pyplot as plt\n",
    "plt.title('Receiver Operating Characteristic')\n",
    "plt.plot(fpr, tpr, 'b', label = 'AUC = %0.2f' % roc_auc)\n",
    "plt.legend(loc = 'lower right')\n",
    "plt.plot([0, 1], [0, 1],'r--')\n",
    "plt.xlim([0, 1])\n",
    "plt.ylim([0, 1])\n",
    "plt.ylabel('True Positive Rate')\n",
    "plt.xlabel('False Positive Rate')\n",
    "plt.show()"
   ]
  },
  {
   "cell_type": "code",
   "execution_count": 68,
   "metadata": {},
   "outputs": [
    {
     "data": {
      "image/png": "[encoded data removed]",
      "text/plain": [
       "<Figure size 432x288 with 1 Axes>"
      ]
     },
     "metadata": {
      "needs_background": "light"
     },
     "output_type": "display_data"
    }
   ],
   "source": [
    "fpr, tpr, threshold = metrics.roc_curve(test_y.T[1], y_pred.T[1])\n",
    "roc_auc = metrics.auc(fpr, tpr)\n",
    "\n",
    "# method I: plt\n",
    "import matplotlib.pyplot as plt\n",
    "plt.title('Receiver Operating Characteristic')\n",
    "plt.plot(fpr, tpr, 'b', label = 'AUC = %0.2f' % roc_auc)\n",
    "plt.legend(loc = 'lower right')\n",
    "plt.plot([0, 1], [0, 1],'r--')\n",
    "plt.xlim([0, 1])\n",
    "plt.ylim([0, 1])\n",
    "plt.ylabel('True Positive Rate')\n",
    "plt.xlabel('False Positive Rate')\n",
    "plt.show()"
   ]
  }
 ],
 "metadata": {
  "kernelspec": {
   "display_name": "Python 3",
   "language": "python",
   "name": "python3"
  },
  "language_info": {
   "codemirror_mode": {
    "name": "ipython",
    "version": 3
   },
   "file_extension": ".py",
   "mimetype": "text/x-python",
   "name": "python",
   "nbconvert_exporter": "python",
   "pygments_lexer": "ipython3",
   "version": "3.6.4"
  }
 },
 "nbformat": 4,
 "nbformat_minor": 1
}
