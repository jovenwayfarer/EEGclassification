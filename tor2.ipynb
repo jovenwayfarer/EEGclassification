{
 "cells": [
  {
   "cell_type": "code",
   "execution_count": 1,
   "metadata": {
    "colab": {
     "base_uri": "https://localhost:8080/",
     "height": 122
    },
    "colab_type": "code",
    "id": "RKUsaDyW5pRn",
    "outputId": "eec50655-1bda-4158-e41e-bcccc00a3a6f"
   },
   "outputs": [
    {
     "name": "stdout",
     "output_type": "stream",
     "text": [
      "Go to this URL in a browser: https://accounts.google.com/o/oauth2/auth?client_id=947318989803-6bn6qk8qdgf4n4g3pfee6491hc0brc4i.apps.googleusercontent.com&redirect_uri=urn%3aietf%3awg%3aoauth%3a2.0%3aoob&response_type=code&scope=email%20https%3a%2f%2fwww.googleapis.com%2fauth%2fdocs.test%20https%3a%2f%2fwww.googleapis.com%2fauth%2fdrive%20https%3a%2f%2fwww.googleapis.com%2fauth%2fdrive.photos.readonly%20https%3a%2f%2fwww.googleapis.com%2fauth%2fpeopleapi.readonly\n",
      "\n",
      "Enter your authorization code:\n",
      "··········\n",
      "Mounted at /content/gdrive\n"
     ]
    }
   ],
   "source": [
    "from google.colab import drive\n",
    "drive.mount('/content/gdrive')"
   ]
  },
  {
   "cell_type": "code",
   "execution_count": 0,
   "metadata": {
    "colab": {},
    "colab_type": "code",
    "id": "5uUVfmwP5iUu"
   },
   "outputs": [],
   "source": [
    "import torch\n",
    "import torch.nn as nn\n",
    "import torch.nn.functional as F\n",
    "import torch.optim as optim\n",
    "import torchvision\n",
    "import torchvision.transforms as transforms\n",
    "import torch.utils.data as utils"
   ]
  },
  {
   "cell_type": "code",
   "execution_count": 0,
   "metadata": {
    "colab": {},
    "colab_type": "code",
    "id": "OcDYtZIi5iUx"
   },
   "outputs": [],
   "source": [
    "import numpy as np"
   ]
  },
  {
   "cell_type": "code",
   "execution_count": 0,
   "metadata": {
    "colab": {},
    "colab_type": "code",
    "id": "bCdasMFF5iUz"
   },
   "outputs": [],
   "source": [
    "from scipy.io import loadmat\n",
    "train_X1 = loadmat('gdrive/My Drive/BCI_project/Band-passed 10-14HZ, 0-800 (without csp)/train_X1.mat')['train_X1']\n",
    "train_X2 = loadmat('gdrive/My Drive/BCI_project/Band-passed 10-14HZ, 0-800 (without csp)/train_X2.mat')['train_X2']\n",
    "test_X = loadmat('gdrive/My Drive/BCI_project/Band-passed 10-14HZ, 0-800 (without csp)/test_X.mat')['test_X']\n",
    "train_y = loadmat('gdrive/My Drive/BCI_project/Band-passed 10-14HZ, 0-800 (without csp)/train_y.mat')['train_y']\n",
    "test_y = loadmat('gdrive/My Drive/BCI_project/Band-passed 10-14HZ, 0-800 (without csp)/test_y.mat')['test_y']\n",
    "train_X = np.concatenate((train_X1, train_X2), axis=2)"
   ]
  },
  {
   "cell_type": "code",
   "execution_count": 41,
   "metadata": {
    "colab": {
     "base_uri": "https://localhost:8080/",
     "height": 102
    },
    "colab_type": "code",
    "id": "uEa_K1Oc5iU4",
    "outputId": "52b518ae-3ead-4a6e-a980-1ec8434c7389"
   },
   "outputs": [
    {
     "name": "stdout",
     "output_type": "stream",
     "text": [
      "(1, 800, 39, 9601)\n",
      "Dimensions of the train set:                 (9601, 1, 800, 39)\n",
      "Dimensions of the test set:                  (2401, 1, 800, 39)\n",
      "Dimensions of the labels for the train set:  (9601, 2)\n",
      "Dimensions of the labels for the test set:   (2401, 2)\n"
     ]
    }
   ],
   "source": [
    "train_X = np.expand_dims(train_X, axis=0)\n",
    "print(train_X.shape)\n",
    "train_X = np.moveaxis(train_X, -1, 0)\n",
    "\n",
    "test_X = np.expand_dims(test_X, axis=0)\n",
    "test_X = np.moveaxis(test_X, -1, 0)\n",
    "\n",
    "train_y = train_y.T\n",
    "test_y = test_y.T\n",
    "print(\"Dimensions of the train set:                 {}\".format(train_X.shape))\n",
    "print(\"Dimensions of the test set:                  {}\".format(test_X.shape))\n",
    "\n",
    "print(\"Dimensions of the labels for the train set:  {}\".format(train_y.shape))\n",
    "print(\"Dimensions of the labels for the test set:   {}\".format(test_y.shape))"
   ]
  },
  {
   "cell_type": "code",
   "execution_count": 0,
   "metadata": {
    "colab": {},
    "colab_type": "code",
    "id": "4WA_sgpb5iU6"
   },
   "outputs": [],
   "source": [
    "use_cuda = torch.cuda.is_available()\n",
    "device = torch.device(\"cuda\" if use_cuda else \"cpu\")\n",
    "transform = transforms.Compose([\n",
    "    transforms.ToTensor()])"
   ]
  },
  {
   "cell_type": "code",
   "execution_count": 0,
   "metadata": {
    "colab": {},
    "colab_type": "code",
    "id": "CK1AwJ645iVA"
   },
   "outputs": [],
   "source": [
    "train_X = torch.tensor(train_X, dtype=torch.float)\n",
    "test_X = torch.tensor(test_X, dtype=torch.float)\n",
    "\n",
    "train_y = torch.tensor(train_y[:, 0], dtype=torch.float)\n",
    "test_y = torch.tensor(test_y[:, 0], dtype=torch.float)"
   ]
  },
  {
   "cell_type": "code",
   "execution_count": 0,
   "metadata": {
    "colab": {},
    "colab_type": "code",
    "id": "VFrrAtMP5iVB"
   },
   "outputs": [],
   "source": [
    "train_dataset = utils.TensorDataset(train_X, train_y)\n",
    "test_dataset = utils.TensorDataset(test_X, test_y)"
   ]
  },
  {
   "cell_type": "code",
   "execution_count": 0,
   "metadata": {
    "colab": {},
    "colab_type": "code",
    "id": "Lck2ed7m5iVD"
   },
   "outputs": [],
   "source": [
    "train_loader = utils.DataLoader(train_dataset, batch_size=128, num_workers=1)\n",
    "test_loader = utils.DataLoader(test_dataset, batch_size=128, num_workers=1)"
   ]
  },
  {
   "cell_type": "code",
   "execution_count": 48,
   "metadata": {
    "colab": {
     "base_uri": "https://localhost:8080/",
     "height": 204
    },
    "colab_type": "code",
    "id": "LoTswXPj5iVE",
    "outputId": "b43a2f47-93c5-4989-f4e1-d8a5812c775e"
   },
   "outputs": [
    {
     "data": {
      "text/plain": [
       "Net(\n",
       "  (conv1): Conv2d(1, 8, kernel_size=(1, 39), stride=(1, 1))\n",
       "  (batch1): BatchNorm2d(8, eps=1e-05, momentum=0.1, affine=True, track_running_stats=True)\n",
       "  (dropout1): Dropout(p=0.5, inplace=False)\n",
       "  (conv2): Conv2d(8, 40, kernel_size=(25, 1), stride=(25, 25))\n",
       "  (batch2): BatchNorm2d(40, eps=1e-05, momentum=0.1, affine=True, track_running_stats=True)\n",
       "  (dropout2): Dropout(p=0.5, inplace=False)\n",
       "  (fc1): Linear(in_features=1280, out_features=100, bias=True)\n",
       "  (dropout3): Dropout(p=0.5, inplace=False)\n",
       "  (fc2): Linear(in_features=100, out_features=1, bias=True)\n",
       ")"
      ]
     },
     "execution_count": 48,
     "metadata": {
      "tags": []
     },
     "output_type": "execute_result"
    }
   ],
   "source": [
    "class Net(nn.Module):\n",
    "    def __init__(self):\n",
    "        super(Net, self).__init__()\n",
    "        self.conv1 = nn.Conv2d(1, 8, (1, 39))\n",
    "        self.batch1 = nn.BatchNorm2d(8)\n",
    "        self.dropout1 = nn.Dropout(0.5)\n",
    "        self.conv2 = nn.Conv2d(8, 40, (25, 1), stride=25)\n",
    "        self.batch2 = nn.BatchNorm2d(40)\n",
    "        self.dropout2 = nn.Dropout(0.5)\n",
    "        self.fc1 = nn.Linear(1280, 100)\n",
    "        self.dropout3 = nn.Dropout(0.5)\n",
    "        self.fc2 = nn.Linear(100, 1)\n",
    "        self._initialize_weights()\n",
    "    \n",
    "    def forward(self, x):\n",
    "        x = F.relu(self.conv1(x))\n",
    "        x = self.batch1(x)\n",
    "        x = self.dropout1(x)\n",
    "        x = F.relu(self.conv2(x))\n",
    "        x = self.batch2(x)\n",
    "        x = self.dropout2(x)\n",
    "        x = x.view(-1, 40*32)\n",
    "        x = F.relu(self.fc1(x))\n",
    "        x = self.dropout3(x)\n",
    "        x = self.fc2(x)\n",
    "        return x\n",
    "    \n",
    "    def _initialize_weights(self):\n",
    "        for m in self.modules():\n",
    "            if isinstance(m, nn.Conv2d):\n",
    "                nn.init.kaiming_normal_(m.weight.data)\n",
    "                if m.bias is not None:\n",
    "                    m.bias.data.zero_()\n",
    "            elif isinstance(m, nn.BatchNorm2d):\n",
    "                m.weight.data.fill_(1)\n",
    "                m.bias.data.zero_()\n",
    "            elif isinstance(m, nn.Linear):\n",
    "                m.weight.data.normal_(0, 0.01)\n",
    "                m.bias.data.zero_()\n",
    "net = Net()\n",
    "net.to(device)"
   ]
  },
  {
   "cell_type": "code",
   "execution_count": 0,
   "metadata": {
    "colab": {},
    "colab_type": "code",
    "id": "oPQmGUEV5iVG"
   },
   "outputs": [],
   "source": [
    "criterion = nn.BCEWithLogitsLoss()\n",
    "optimizer = torch.optim.Adam(net.parameters())\n",
    "num_epochs = 30"
   ]
  },
  {
   "cell_type": "code",
   "execution_count": 50,
   "metadata": {
    "colab": {
     "base_uri": "https://localhost:8080/",
     "height": 1000
    },
    "colab_type": "code",
    "id": "hPBVYg2c5iVI",
    "outputId": "3da1c89a-bd70-45e3-fa8e-15de8347b8c5"
   },
   "outputs": [
    {
     "name": "stdout",
     "output_type": "stream",
     "text": [
      "1 epoch's train loss: 52.659\n",
      "1 epoch's test loss: 13.143\n",
      "2 epoch's train loss: 51.287\n",
      "2 epoch's test loss: 12.842\n",
      "3 epoch's train loss: 48.750\n",
      "3 epoch's test loss: 12.559\n",
      "4 epoch's train loss: 47.034\n",
      "4 epoch's test loss: 12.293\n",
      "5 epoch's train loss: 46.032\n",
      "5 epoch's test loss: 12.197\n",
      "6 epoch's train loss: 45.467\n",
      "6 epoch's test loss: 11.945\n",
      "7 epoch's train loss: 45.190\n",
      "7 epoch's test loss: 11.950\n",
      "8 epoch's train loss: 44.894\n",
      "8 epoch's test loss: 11.867\n",
      "9 epoch's train loss: 43.886\n",
      "9 epoch's test loss: 11.888\n",
      "10 epoch's train loss: 43.802\n",
      "10 epoch's test loss: 11.708\n",
      "11 epoch's train loss: 43.434\n",
      "11 epoch's test loss: 11.654\n",
      "12 epoch's train loss: 42.488\n",
      "12 epoch's test loss: 11.846\n",
      "13 epoch's train loss: 42.347\n",
      "13 epoch's test loss: 11.629\n",
      "14 epoch's train loss: 42.127\n",
      "14 epoch's test loss: 11.716\n",
      "15 epoch's train loss: 41.533\n",
      "15 epoch's test loss: 11.661\n",
      "16 epoch's train loss: 41.477\n",
      "16 epoch's test loss: 11.492\n",
      "17 epoch's train loss: 41.236\n",
      "17 epoch's test loss: 11.446\n",
      "18 epoch's train loss: 40.575\n",
      "18 epoch's test loss: 11.634\n",
      "19 epoch's train loss: 40.443\n",
      "19 epoch's test loss: 11.567\n",
      "20 epoch's train loss: 40.701\n",
      "20 epoch's test loss: 11.371\n",
      "21 epoch's train loss: 40.152\n",
      "21 epoch's test loss: 11.390\n",
      "22 epoch's train loss: 39.852\n",
      "22 epoch's test loss: 11.528\n",
      "23 epoch's train loss: 39.462\n",
      "23 epoch's test loss: 11.516\n",
      "24 epoch's train loss: 38.801\n",
      "24 epoch's test loss: 11.401\n",
      "25 epoch's train loss: 38.782\n",
      "25 epoch's test loss: 11.555\n",
      "26 epoch's train loss: 38.628\n",
      "26 epoch's test loss: 11.825\n",
      "27 epoch's train loss: 38.483\n",
      "27 epoch's test loss: 11.529\n",
      "28 epoch's train loss: 38.204\n",
      "28 epoch's test loss: 11.646\n",
      "29 epoch's train loss: 37.947\n",
      "29 epoch's test loss: 11.569\n",
      "30 epoch's train loss: 37.660\n",
      "30 epoch's test loss: 11.701\n",
      "Finished Training\n"
     ]
    }
   ],
   "source": [
    "losses = []\n",
    "test_losses = []\n",
    "for epoch in range(num_epochs):  # loop over the dataset multiple times\n",
    "\n",
    "    running_loss = 0.0\n",
    "    test_loss = 0.0\n",
    "    for i, data in enumerate(train_loader, 0):\n",
    "        # get the inputs; data is a list of [inputs, labels]\n",
    "        inputs, labels = data[0].to(device), data[1].to(device)\n",
    "\n",
    "        # zero the parameter gradients\n",
    "        optimizer.zero_grad()\n",
    "\n",
    "        # forward + backward + optimize\n",
    "        outputs = net(inputs)\n",
    "        labels = np.reshape(labels, (len(labels), 1))\n",
    "        loss = criterion(outputs, labels)\n",
    "        loss.backward()\n",
    "        optimizer.step()\n",
    "        running_loss += loss.item()\n",
    "    \n",
    "    losses.append(running_loss)\n",
    "    print(\"%d epoch's train loss: %.3f\" %\n",
    "        (epoch + 1, running_loss))\n",
    "    \n",
    "    with torch.no_grad():\n",
    "        for data in test_loader:\n",
    "            inputs, labels = data[0].to(device), data[1].to(device)\n",
    "            outputs = net(inputs)\n",
    "            labels = np.reshape(labels, (len(labels), 1))\n",
    "            loss = criterion(outputs, labels)\n",
    "            test_loss += loss.item()\n",
    "    print(\"%d epoch's test loss: %.3f\" %\n",
    "        (epoch + 1, test_loss))\n",
    "\n",
    "    test_losses.append(test_loss)\n",
    "                    \n",
    "print('Finished Training')"
   ]
  },
  {
   "cell_type": "code",
   "execution_count": 0,
   "metadata": {
    "colab": {},
    "colab_type": "code",
    "id": "PxlhSwAKLaUb"
   },
   "outputs": [],
   "source": [
    "def sigmoid(x):                                        \n",
    "    return 1 / (1 + np.exp(-x))"
   ]
  },
  {
   "cell_type": "code",
   "execution_count": 0,
   "metadata": {
    "colab": {},
    "colab_type": "code",
    "id": "OGvMKuXG5iVL"
   },
   "outputs": [],
   "source": [
    "import matplotlib.pyplot as plt"
   ]
  },
  {
   "cell_type": "code",
   "execution_count": 98,
   "metadata": {
    "colab": {
     "base_uri": "https://localhost:8080/",
     "height": 313
    },
    "colab_type": "code",
    "id": "FyahAEit5iVJ",
    "outputId": "3d826a81-9a17-4ac8-b436-b51c09d2a4d2"
   },
   "outputs": [
    {
     "name": "stdout",
     "output_type": "stream",
     "text": [
      "No Skill AUC: 0.5\n",
      "Our AUC: 0.784531955150763\n"
     ]
    },
    {
     "data": {
      "image/png": "[encoded data removed]",
      "text/plain": [
       "<Figure size 432x288 with 1 Axes>"
      ]
     },
     "metadata": {
      "tags": []
     },
     "output_type": "display_data"
    }
   ],
   "source": [
    "from sklearn.metrics import roc_auc_score\n",
    "from sklearn.metrics import accuracy_score\n",
    "from sklearn.metrics import roc_curve\n",
    "auc = 0\n",
    "acc = 0\n",
    "ns_probs = [0 for _ in range(len(test_loader.dataset))]\n",
    "lr_probs = []\n",
    "testy = []\n",
    "with torch.no_grad():\n",
    "    net.eval()\n",
    "    for data in test_loader:\n",
    "        images, labels = data\n",
    "        outputs = net(images)\n",
    "        testy.extend(labels)\n",
    "        lr_probs.extend(sigmoid(outputs.cpu().numpy()))\n",
    "\n",
    "lr_probs = [x.item() for x in lr_probs]\n",
    "testy = [x.item() for x in testy]\n",
    "\n",
    "ns_auc = roc_auc_score(testy, ns_probs)\n",
    "lr_auc = roc_auc_score(testy, lr_probs)\n",
    "print(\"No Skill AUC: {}\".format(ns_auc))\n",
    "print(\"Our AUC: {}\".format(lr_auc))\n",
    "\n",
    "ns_fpr, ns_tpr, _ = roc_curve(testy, ns_probs)\n",
    "lr_fpr, lr_tpr, _ = roc_curve(testy, lr_probs)\n",
    "# plot the roc curve for the model\n",
    "plt.plot(ns_fpr, ns_tpr, linestyle='--', label='No Skill')\n",
    "plt.plot(lr_fpr, lr_tpr, marker='.', label='CNN')\n",
    "# axis labels\n",
    "plt.xlabel('False Positive Rate')\n",
    "plt.ylabel('True Positive Rate')\n",
    "# show the legend\n",
    "plt.legend()\n",
    "# show the plot\n",
    "plt.show()\n"
   ]
  },
  {
   "cell_type": "code",
   "execution_count": 69,
   "metadata": {
    "colab": {
     "base_uri": "https://localhost:8080/",
     "height": 265
    },
    "colab_type": "code",
    "id": "YMcNRTP65iVN",
    "outputId": "731232aa-2a57-4e91-a6a3-c8930c70cb6b"
   },
   "outputs": [
    {
     "data": {
      "image/png": "[encoded data removed]",
      "text/plain": [
       "<Figure size 432x288 with 1 Axes>"
      ]
     },
     "metadata": {
      "tags": []
     },
     "output_type": "display_data"
    }
   ],
   "source": [
    "epochs = list(range(1,num_epochs+1))\n",
    "plt.plot(epochs, [x / 18.76 for x in test_losses], label=\"test\")\n",
    "plt.plot(epochs, [x / 75 for x in losses], label=\"train\")\n",
    "plt.legend()\n",
    "plt.show()"
   ]
  }
 ],
 "metadata": {
  "colab": {
   "name": "tang.ipynb",
   "provenance": []
  },
  "kernelspec": {
   "display_name": "Python 3",
   "language": "python",
   "name": "python3"
  },
  "language_info": {
   "codemirror_mode": {
    "name": "ipython",
    "version": 3
   },
   "file_extension": ".py",
   "mimetype": "text/x-python",
   "name": "python",
   "nbconvert_exporter": "python",
   "pygments_lexer": "ipython3",
   "version": "3.7.3"
  }
 },
 "nbformat": 4,
 "nbformat_minor": 1
}
