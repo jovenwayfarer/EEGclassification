{
  "nbformat": 4,
  "nbformat_minor": 0,
  "metadata": {
    "colab": {
      "name": "tor3.ipynb",
      "provenance": []
    },
    "kernelspec": {
      "name": "python3",
      "display_name": "Python 3"
    }
  },
  "cells": [
    {
      "cell_type": "markdown",
      "metadata": {
        "id": "SAeOH1-BHnTQ",
        "colab_type": "text"
      },
      "source": [
        "If the google colab is used"
      ]
    },
    {
      "cell_type": "code",
      "metadata": {
        "id": "csTMOjDVG0Kq",
        "colab_type": "code",
        "outputId": "58446b0a-f4ad-4164-b2df-252e3424bcec",
        "colab": {
          "base_uri": "https://localhost:8080/",
          "height": 122
        }
      },
      "source": [
        "from google.colab import drive\n",
        "drive.mount('/content/gdrive')"
      ],
      "execution_count": 0,
      "outputs": [
        {
          "output_type": "stream",
          "text": [
            "Go to this URL in a browser: https://accounts.google.com/o/oauth2/auth?client_id=947318989803-6bn6qk8qdgf4n4g3pfee6491hc0brc4i.apps.googleusercontent.com&redirect_uri=urn%3aietf%3awg%3aoauth%3a2.0%3aoob&response_type=code&scope=email%20https%3a%2f%2fwww.googleapis.com%2fauth%2fdocs.test%20https%3a%2f%2fwww.googleapis.com%2fauth%2fdrive%20https%3a%2f%2fwww.googleapis.com%2fauth%2fdrive.photos.readonly%20https%3a%2f%2fwww.googleapis.com%2fauth%2fpeopleapi.readonly\n",
            "\n",
            "Enter your authorization code:\n",
            "··········\n",
            "Mounted at /content/gdrive\n"
          ],
          "name": "stdout"
        }
      ]
    },
    {
      "cell_type": "code",
      "metadata": {
        "id": "D0O-LMukHl95",
        "colab_type": "code",
        "colab": {}
      },
      "source": [
        "import scipy.io as sio\n",
        "import torch\n",
        "import numpy as np\n",
        "import torch.utils.data as utils\n",
        "from __future__ import print_function\n",
        "from __future__ import division\n",
        "import torch\n",
        "from torch import nn\n",
        "import torch.optim as optim\n",
        "import torchvision\n",
        "from torchvision import datasets, models, transforms\n",
        "import matplotlib.pyplot as plt\n",
        "import time\n",
        "import os\n",
        "import copy\n",
        "import torch.nn.functional as F\n",
        "from torch import optim\n",
        "from sklearn import metrics"
      ],
      "execution_count": 0,
      "outputs": []
    },
    {
      "cell_type": "markdown",
      "metadata": {
        "id": "nj3ioK_vH9ZO",
        "colab_type": "text"
      },
      "source": [
        "Paths to files must be replaced to system specific ones."
      ]
    },
    {
      "cell_type": "code",
      "metadata": {
        "id": "0QFwJQyTH-Rz",
        "colab_type": "code",
        "colab": {}
      },
      "source": [
        "train_X = sio.loadmat('gdrive/My Drive/BCI_project/Band-passed 10-14Hz, splitted data 75-350 (with CSP)/train_X_csp.mat')['train_X_csp']\n",
        "train_y = sio.loadmat('gdrive/My Drive/BCI_project/Band-passed 10-14Hz, splitted data 75-350 (with CSP)/train_y.mat')['train_y_csp']\n",
        " \n",
        "test_X = sio.loadmat('gdrive/My Drive/BCI_project/Band-passed 10-14Hz, splitted data 75-350 (with CSP)/test_X_csp.mat')['test_X_csp']\n",
        "test_y = sio.loadmat('gdrive/My Drive/BCI_project/Band-passed 10-14Hz, splitted data 75-350 (with CSP)/test_y.mat')['test_y']\n",
        "\n",
        "train_X = np.expand_dims(train_X, axis=0)\n",
        "train_X = np.moveaxis(train_X, -1, 0)\n",
        "\n",
        "test_X = np.expand_dims(test_X, axis=0)\n",
        "test_X = np.moveaxis(test_X, -1, 0)\n",
        "\n",
        "train_y = train_y[0]\n",
        "test_y = test_y[0]\n",
        "\n",
        "train_y = train_y.T\n",
        "test_y = test_y.T"
      ],
      "execution_count": 0,
      "outputs": []
    },
    {
      "cell_type": "code",
      "metadata": {
        "id": "oimstZTzJzqh",
        "colab_type": "code",
        "colab": {}
      },
      "source": [
        "X_train_list = []\n",
        "for i in range(len(train_X)):\n",
        "    X_train_list.append(train_X[i])\n",
        "X_test_list = []\n",
        "for i in range(len(test_X)):\n",
        "    X_test_list.append(test_X[i])\n",
        "\n",
        "tensor_X_train = torch.stack([torch.FloatTensor(i) for i in X_train_list]) # transform to torch tensors\n",
        "tensor_y_train = torch.Tensor(train_y)\n",
        "\n",
        "tensor_X_test = torch.stack([torch.FloatTensor(i) for i in X_test_list]) # transform to torch tensors\n",
        "tensor_y_test = torch.Tensor(test_y)"
      ],
      "execution_count": 0,
      "outputs": []
    },
    {
      "cell_type": "code",
      "metadata": {
        "id": "ORp7NOA7KF2E",
        "colab_type": "code",
        "colab": {}
      },
      "source": [
        "train_dataset = utils.TensorDataset(tensor_X_train, tensor_y_train)\n",
        "train_loader = utils.DataLoader(train_dataset, batch_size=32, num_workers=1)\n",
        "\n",
        "test_dataset = utils.TensorDataset(tensor_X_test, tensor_y_test)\n",
        "test_loader = utils.DataLoader(test_dataset, batch_size=32, num_workers=1)\n"
      ],
      "execution_count": 0,
      "outputs": []
    },
    {
      "cell_type": "code",
      "metadata": {
        "id": "VZ7INiF4WoS6",
        "colab_type": "code",
        "outputId": "7497b054-064f-42cc-f624-2cc47e1f5860",
        "colab": {
          "base_uri": "https://localhost:8080/",
          "height": 34
        }
      },
      "source": [
        "def conv_calc(w,k,p,s):\n",
        "    o = (w-k+2*p)/s + 1      #k-filter size, w-height,width p-padding s- stride\n",
        "    return o\n",
        "conv_calc(4,3,0,1)"
      ],
      "execution_count": 0,
      "outputs": [
        {
          "output_type": "execute_result",
          "data": {
            "text/plain": [
              "2.0"
            ]
          },
          "metadata": {
            "tags": []
          },
          "execution_count": 12
        }
      ]
    },
    {
      "cell_type": "code",
      "metadata": {
        "id": "ZhnF-9omWupr",
        "colab_type": "code",
        "colab": {}
      },
      "source": [
        "class Net(nn.Module):\n",
        "    def __init__(self):\n",
        "        super(Net, self).__init__()\n",
        "        self.conv1 = nn.Conv2d(1, 32, 3, 1,1)\n",
        "        self.conv2 = nn.Conv2d(32, 64, 3, 1,1)\n",
        "        #self.fc1 = nn.Linear(8672, 2)\n",
        "        self.fc1 = nn.Linear(64*6*275, 2)\n",
        "        \n",
        "        self.fc2 = nn.Linear(100,2)\n",
        "        self.drop = nn.Dropout(p = 0.5)\n",
        "        self.bn1 = nn.BatchNorm2d(32)\n",
        "        self.bn2 = nn.BatchNorm2d(64)\n",
        "    def forward(self, x):\n",
        "        x = self.conv1(x)\n",
        "        x = self.bn1(x)\n",
        "        x = F.relu(x)\n",
        "        x = self.drop(x)\n",
        "        x = self.conv2(x)\n",
        "        x = self.bn2(x)\n",
        "        x = F.relu(x)\n",
        "        \n",
        "        x = x.view(-1, 64*6*275)\n",
        "        x = self.drop(x)\n",
        "        return self.fc1(x)  "
      ],
      "execution_count": 0,
      "outputs": []
    },
    {
      "cell_type": "code",
      "metadata": {
        "id": "9pF_Ic0HW03P",
        "colab_type": "code",
        "outputId": "e1b7c68a-0758-4403-de5e-b12aaefa3a81",
        "colab": {
          "base_uri": "https://localhost:8080/",
          "height": 170
        }
      },
      "source": [
        "net = Net()\n",
        "print(net)"
      ],
      "execution_count": 0,
      "outputs": [
        {
          "output_type": "stream",
          "text": [
            "Net(\n",
            "  (conv1): Conv2d(1, 32, kernel_size=(3, 3), stride=(1, 1), padding=(1, 1))\n",
            "  (conv2): Conv2d(32, 64, kernel_size=(3, 3), stride=(1, 1), padding=(1, 1))\n",
            "  (fc1): Linear(in_features=105600, out_features=2, bias=True)\n",
            "  (fc2): Linear(in_features=100, out_features=2, bias=True)\n",
            "  (drop): Dropout(p=0.5, inplace=False)\n",
            "  (bn1): BatchNorm2d(32, eps=1e-05, momentum=0.1, affine=True, track_running_stats=True)\n",
            "  (bn2): BatchNorm2d(64, eps=1e-05, momentum=0.1, affine=True, track_running_stats=True)\n",
            ")\n"
          ],
          "name": "stdout"
        }
      ]
    },
    {
      "cell_type": "code",
      "metadata": {
        "id": "-hmhEqsRW4OW",
        "colab_type": "code",
        "colab": {}
      },
      "source": [
        "criterion = nn.CrossEntropyLoss()\n",
        "optimizer = optim.SGD(net.parameters(), lr=0.001, momentum=0.9)"
      ],
      "execution_count": 0,
      "outputs": []
    },
    {
      "cell_type": "code",
      "metadata": {
        "id": "CjDf4V0xXAoj",
        "colab_type": "code",
        "colab": {}
      },
      "source": [
        "def train_model(model, dataloaders, criterion, optimizer, num_epochs=25):\n",
        "    since = time.time()\n",
        "\n",
        "    val_acc_history = []\n",
        "    train_acc_history = [] \n",
        "    epoch_number = []\n",
        "    best_model_wts = copy.deepcopy(model.state_dict())\n",
        "    best_acc = 0.0\n",
        "\n",
        "    losses = []\n",
        "    test_losses = []\n",
        "\n",
        "    for epoch in range(num_epochs):\n",
        "        running_loss = 0.0\n",
        "        test_loss = 0.0\n",
        "\n",
        "        print('Epoch {}/{}'.format(epoch, num_epochs - 1))\n",
        "        print('-' * 10)\n",
        "\n",
        "        # Each epoch has a training and validation phase\n",
        "        for phase in ['train', 'val']:\n",
        "            if phase == 'train':\n",
        "                model.train()  # Set model to training mode\n",
        "            else:\n",
        "                model.eval()   # Set model to evaluate mode\n",
        "\n",
        "            epoch_number.append(epoch)    \n",
        "\n",
        "            running_loss = 0.0\n",
        "            running_corrects = 0\n",
        "\n",
        "            # Iterate over data.\n",
        "            for inputs, labels in dataloaders[phase]:\n",
        "                inputs = inputs\n",
        "                labels = labels\n",
        "\n",
        "                # zero the parameter gradients\n",
        "                optimizer.zero_grad()\n",
        "\n",
        "                # forward\n",
        "                # track history if only in train\n",
        "                with torch.set_grad_enabled(phase == 'train'):\n",
        "                    # Get model outputs and calculate loss\n",
        "                    # Special case for inception because in training it has an auxiliary output. In train\n",
        "                    #   mode we calculate the loss by summing the final output and the auxiliary output\n",
        "                    #   but in testing we only consider the final output.\n",
        "                  \n",
        "                    outputs = model(inputs.float())\n",
        "                    \n",
        "                    loss = criterion(outputs, labels.long())\n",
        "                    \n",
        "                    _, preds = torch.max(outputs, 1)\n",
        "\n",
        "                    # backward + optimize only if in training phase\n",
        "                    if phase == 'train':\n",
        "                        loss.backward()\n",
        "                        optimizer.step()\n",
        "\n",
        "                # statistics\n",
        "                running_loss += loss.item() * inputs.size(0)\n",
        "                running_corrects += torch.sum(preds == labels.data)\n",
        "\n",
        "            epoch_loss = running_loss / len(dataloaders[phase].dataset)\n",
        "            epoch_acc = running_corrects.double() / len(dataloaders[phase].dataset)\n",
        "            \n",
        "            if phase == 'train':\n",
        "                losses.append(epoch_loss)\n",
        "            else:\n",
        "                test_losses.append(epoch_loss)\n",
        "\n",
        "            print('{} Loss: {:.4f} Acc: {:.4f}'.format(phase, epoch_loss, epoch_acc))\n",
        "\n",
        "            # deep copy the model\n",
        "            if phase == 'val' and epoch_acc > best_acc:\n",
        "                best_acc = epoch_acc\n",
        "                best_model_wts = copy.deepcopy(model.state_dict())\n",
        "            if phase == 'val':\n",
        "                val_acc_history.append(epoch_acc)\n",
        "                scheduler.step(epoch_loss)\n",
        "            if phase == 'train':\n",
        "                train_acc_history.append(epoch_acc)\n",
        "                \n",
        "        print()\n",
        "\n",
        "    time_elapsed = time.time() - since\n",
        "    print('Training complete in {:.0f}m {:.0f}s'.format(time_elapsed // 60, time_elapsed % 60))\n",
        "    print('Best val Acc: {:4f}'.format(best_acc))\n",
        "\n",
        "    # load best model weights\n",
        "    model.load_state_dict(best_model_wts)\n",
        "    return model, val_acc_history, epoch_number, train_acc_history, losses, test_losses"
      ],
      "execution_count": 0,
      "outputs": []
    },
    {
      "cell_type": "code",
      "metadata": {
        "id": "M3dLbTkQXIqr",
        "colab_type": "code",
        "colab": {}
      },
      "source": [
        "dataloaders_dict = {\"train\": train_loader, \"val\": test_loader}"
      ],
      "execution_count": 0,
      "outputs": []
    },
    {
      "cell_type": "code",
      "metadata": {
        "id": "R4zeyZu-XLTX",
        "colab_type": "code",
        "outputId": "3ef5fc0c-f3db-45f7-a1cb-c2cc04a13aea",
        "colab": {
          "base_uri": "https://localhost:8080/",
          "height": 1000
        }
      },
      "source": [
        "params_to_update = net.parameters()\n",
        "optimizer_ft = optim.Adam(params_to_update, lr=3e-3)\n",
        "scheduler = optim.lr_scheduler.ReduceLROnPlateau(optimizer_ft, factor=0.1, patience=5, verbose=True)\n",
        "mod, val, epo, trainig, losses, test_losses = train_model(net, dataloaders_dict, criterion, optimizer_ft)"
      ],
      "execution_count": 0,
      "outputs": [
        {
          "output_type": "stream",
          "text": [
            "Epoch 0/24\n",
            "----------\n",
            "train Loss: 1.5282 Acc: 0.5918\n",
            "val Loss: 0.6379 Acc: 0.6339\n",
            "\n",
            "Epoch 1/24\n",
            "----------\n",
            "train Loss: 0.6301 Acc: 0.6340\n",
            "val Loss: 0.6184 Acc: 0.6447\n",
            "\n",
            "Epoch 2/24\n",
            "----------\n",
            "train Loss: 0.6122 Acc: 0.6528\n",
            "val Loss: 0.6234 Acc: 0.6364\n",
            "\n",
            "Epoch 3/24\n",
            "----------\n",
            "train Loss: 0.5965 Acc: 0.6608\n",
            "val Loss: 0.6219 Acc: 0.6443\n",
            "\n",
            "Epoch 4/24\n",
            "----------\n",
            "train Loss: 0.5893 Acc: 0.6717\n",
            "val Loss: 0.6228 Acc: 0.6389\n",
            "\n",
            "Epoch 5/24\n",
            "----------\n",
            "train Loss: 0.5756 Acc: 0.6796\n",
            "val Loss: 0.6266 Acc: 0.6406\n",
            "\n",
            "Epoch 6/24\n",
            "----------\n",
            "train Loss: 0.5681 Acc: 0.6872\n",
            "val Loss: 0.6383 Acc: 0.6327\n",
            "\n",
            "Epoch 7/24\n",
            "----------\n",
            "train Loss: 0.5596 Acc: 0.6881\n",
            "val Loss: 0.6474 Acc: 0.6289\n",
            "Epoch     7: reducing learning rate of group 0 to 3.0000e-04.\n",
            "\n",
            "Epoch 8/24\n",
            "----------\n",
            "train Loss: 0.5254 Acc: 0.7185\n",
            "val Loss: 0.6405 Acc: 0.6310\n",
            "\n",
            "Epoch 9/24\n",
            "----------\n",
            "train Loss: 0.5161 Acc: 0.7232\n",
            "val Loss: 0.6449 Acc: 0.6331\n",
            "\n",
            "Epoch 10/24\n",
            "----------\n",
            "train Loss: 0.4957 Acc: 0.7467\n",
            "val Loss: 0.6529 Acc: 0.6272\n",
            "\n",
            "Epoch 11/24\n",
            "----------\n",
            "train Loss: 0.4928 Acc: 0.7405\n",
            "val Loss: 0.6576 Acc: 0.6302\n",
            "\n",
            "Epoch 12/24\n",
            "----------\n",
            "train Loss: 0.4824 Acc: 0.7469\n",
            "val Loss: 0.6611 Acc: 0.6285\n",
            "\n",
            "Epoch 13/24\n",
            "----------\n",
            "train Loss: 0.4790 Acc: 0.7491\n",
            "val Loss: 0.6681 Acc: 0.6331\n",
            "Epoch    13: reducing learning rate of group 0 to 3.0000e-05.\n",
            "\n",
            "Epoch 14/24\n",
            "----------\n",
            "train Loss: 0.4699 Acc: 0.7540\n",
            "val Loss: 0.6647 Acc: 0.6314\n",
            "\n",
            "Epoch 15/24\n",
            "----------\n",
            "train Loss: 0.4702 Acc: 0.7535\n",
            "val Loss: 0.6643 Acc: 0.6314\n",
            "\n",
            "Epoch 16/24\n",
            "----------\n",
            "train Loss: 0.4675 Acc: 0.7550\n",
            "val Loss: 0.6635 Acc: 0.6339\n",
            "\n",
            "Epoch 17/24\n",
            "----------\n",
            "train Loss: 0.4599 Acc: 0.7650\n",
            "val Loss: 0.6648 Acc: 0.6306\n",
            "\n",
            "Epoch 18/24\n",
            "----------\n",
            "train Loss: 0.4592 Acc: 0.7595\n",
            "val Loss: 0.6660 Acc: 0.6310\n",
            "\n",
            "Epoch 19/24\n",
            "----------\n",
            "train Loss: 0.4598 Acc: 0.7553\n",
            "val Loss: 0.6662 Acc: 0.6277\n",
            "Epoch    19: reducing learning rate of group 0 to 3.0000e-06.\n",
            "\n",
            "Epoch 20/24\n",
            "----------\n",
            "train Loss: 0.4569 Acc: 0.7638\n",
            "val Loss: 0.6654 Acc: 0.6297\n",
            "\n",
            "Epoch 21/24\n",
            "----------\n",
            "train Loss: 0.4636 Acc: 0.7524\n",
            "val Loss: 0.6662 Acc: 0.6322\n",
            "\n",
            "Epoch 22/24\n",
            "----------\n",
            "train Loss: 0.4542 Acc: 0.7675\n",
            "val Loss: 0.6642 Acc: 0.6314\n",
            "\n",
            "Epoch 23/24\n",
            "----------\n",
            "train Loss: 0.4537 Acc: 0.7630\n",
            "val Loss: 0.6661 Acc: 0.6327\n",
            "\n",
            "Epoch 24/24\n",
            "----------\n",
            "train Loss: 0.4560 Acc: 0.7633\n",
            "val Loss: 0.6660 Acc: 0.6318\n",
            "\n",
            "Training complete in 36m 50s\n",
            "Best val Acc: 0.644731\n"
          ],
          "name": "stdout"
        }
      ]
    },
    {
      "cell_type": "code",
      "metadata": {
        "id": "_bjp5w1CXRKF",
        "colab_type": "code",
        "colab": {}
      },
      "source": [
        "net.eval()\n",
        "testy = []\n",
        "lr_probs = []\n",
        "with torch.no_grad():\n",
        "    for data in test_loader:\n",
        "        inputs, labels = data[0], data[1]\n",
        "        outputs = net(inputs)\n",
        "        testy.extend(labels)\n",
        "        lr_probs.extend(nn.functional.softmax(outputs,dim=1).cpu().numpy())\n",
        "\n",
        "y_pred = np.asarray(lr_probs)\n",
        "fpr, tpr, threshold = metrics.roc_curve(test_y.T, y_pred.T[1])\n",
        "roc_auc = metrics.auc(fpr, tpr)"
      ],
      "execution_count": 0,
      "outputs": []
    },
    {
      "cell_type": "code",
      "metadata": {
        "id": "TbJNsptKigW-",
        "colab_type": "code",
        "colab": {}
      },
      "source": [
        "def sigmoid(x):                                        \n",
        "    return 1 / (1 + np.exp(-x))"
      ],
      "execution_count": 0,
      "outputs": []
    },
    {
      "cell_type": "code",
      "metadata": {
        "id": "WPiBeA4aiYAK",
        "colab_type": "code",
        "outputId": "275e1433-e8fb-4ccb-c9ca-00cd013d8911",
        "colab": {
          "base_uri": "https://localhost:8080/",
          "height": 313
        }
      },
      "source": [
        "from sklearn.metrics import roc_auc_score\n",
        "from sklearn.metrics import accuracy_score\n",
        "from sklearn.metrics import roc_curve\n",
        "auc = 0\n",
        "acc = 0\n",
        "ns_probs = [0 for _ in range(len(test_loader.dataset))]\n",
        "lr_probs = []\n",
        "testy = []\n",
        "with torch.no_grad():\n",
        "    net.eval()\n",
        "    for data in test_loader:\n",
        "        images, labels = data\n",
        "        outputs = net(images)\n",
        "        testy.extend(labels)\n",
        "        lr_probs.extend(sigmoid(outputs.cpu().numpy()))\n",
        "\n",
        "lr_probs = [x[1].item() for x in lr_probs]\n",
        "testy = [x.item() for x in testy]\n",
        "\n",
        "ns_auc = roc_auc_score(testy, ns_probs)\n",
        "lr_auc = roc_auc_score(testy, lr_probs)\n",
        "print(\"No Skill AUC: {}\".format(ns_auc))\n",
        "print(\"Our AUC: {}\".format(lr_auc))\n",
        "\n",
        "ns_fpr, ns_tpr, _ = roc_curve(testy, ns_probs)\n",
        "lr_fpr, lr_tpr, _ = roc_curve(testy, lr_probs)\n",
        "# plot the roc curve for the model\n",
        "plt.plot(ns_fpr, ns_tpr, linestyle='--', label='No Skill')\n",
        "plt.plot(lr_fpr, lr_tpr, marker='.', label='CNN')\n",
        "# axis labels\n",
        "plt.xlabel('False Positive Rate')\n",
        "plt.ylabel('True Positive Rate')\n",
        "# show the legend\n",
        "plt.legend()\n",
        "# show the plot\n",
        "plt.show()\n"
      ],
      "execution_count": 0,
      "outputs": [
        {
          "output_type": "stream",
          "text": [
            "No Skill AUC: 0.5\n",
            "Our AUC: 0.7068457587116479\n"
          ],
          "name": "stdout"
        },
        {
          "output_type": "display_data",
          "data": {
            "image/png": "[encoded data removed]",
            "text/plain": [
              "<Figure size 432x288 with 1 Axes>"
            ]
          },
          "metadata": {
            "tags": []
          }
        }
      ]
    },
    {
      "cell_type": "code",
      "metadata": {
        "id": "CLF-9afKXTR5",
        "colab_type": "code",
        "outputId": "6998838f-8770-484a-992e-65c2bccb92a2",
        "colab": {
          "base_uri": "https://localhost:8080/",
          "height": 265
        }
      },
      "source": [
        "epochs = list(range(1, 26))\n",
        "plt.plot(epochs, [x for x in test_losses], label=\"test\")\n",
        "plt.plot(epochs, [x for x in losses], label=\"train\")\n",
        "plt.legend()\n",
        "plt.show()"
      ],
      "execution_count": 0,
      "outputs": [
        {
          "output_type": "display_data",
          "data": {
            "image/png": "[encoded data removed]",
            "text/plain": [
              "<Figure size 432x288 with 1 Axes>"
            ]
          },
          "metadata": {
            "tags": []
          }
        }
      ]
    },
    {
      "cell_type": "code",
      "metadata": {
        "id": "2X_InuM3jOGG",
        "colab_type": "code",
        "colab": {}
      },
      "source": [
        ""
      ],
      "execution_count": 0,
      "outputs": []
    }
  ]
}